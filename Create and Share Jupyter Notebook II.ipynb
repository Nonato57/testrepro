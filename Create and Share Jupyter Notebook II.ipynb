{
    "cells": [
        {
            "metadata": {
                "collapsed": true
            },
            "cell_type": "markdown",
            "source": "# My Jupyter Notebook on IBM Watson Studio"
        },
        {
            "metadata": {},
            "cell_type": "markdown",
            "source": "<b>Raimundo Nonato da Cruz</b></br>\n<i>I wanr to be a Data Scientist</i>"
        },
        {
            "metadata": {},
            "cell_type": "markdown",
            "source": "<i>I am interested in data science because today the wrold is data</i></br>\n<i>I am interested in data science because I want to be a data sciencist<i/>"
        },
        {
            "metadata": {},
            "cell_type": "markdown",
            "source": "### Code to execute matematical operatios"
        },
        {
            "metadata": {},
            "cell_type": "code",
            "source": "(5 + 2)*3",
            "execution_count": 8,
            "outputs": [
                {
                    "output_type": "execute_result",
                    "execution_count": 8,
                    "data": {
                        "text/plain": "21"
                    },
                    "metadata": {}
                }
            ]
        },
        {
            "metadata": {},
            "cell_type": "markdown",
            "source": "<ol>\n<li>Raimundo</li>\n<li>Nonato</li>\n<li>Da Cruz</li>\n</ol>\n\n<ul>\n<li>Raimundo</li>\n<li>Nonato</li>\n<li>Da Cruz</li>\n</ul>\n\n<a>Raimundo Nonato da Cruz</a>"
        },
        {
            "metadata": {},
            "cell_type": "code",
            "source": "",
            "execution_count": null,
            "outputs": []
        }
    ],
    "metadata": {
        "kernelspec": {
            "name": "python3",
            "display_name": "Python 3.9",
            "language": "python"
        },
        "language_info": {
            "name": "python",
            "version": "3.9.12",
            "mimetype": "text/x-python",
            "codemirror_mode": {
                "name": "ipython",
                "version": 3
            },
            "pygments_lexer": "ipython3",
            "nbconvert_exporter": "python",
            "file_extension": ".py"
        }
    },
    "nbformat": 4,
    "nbformat_minor": 1
}