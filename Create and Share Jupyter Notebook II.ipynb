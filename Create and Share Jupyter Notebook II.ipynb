{
    "cells": [
        {
            "cell_type": "markdown",
            "metadata": {
                "collapsed": true
            },
            "source": "# My Jupyter Notebook on IBM Watson Studio"
        },
        {
            "cell_type": "markdown",
            "metadata": {},
            "source": "<b>Raimundo Nonato da Cruz</b></br>\n<i>I wanr to be a Data Scientist</i>"
        },
        {
            "cell_type": "markdown",
            "metadata": {},
            "source": "<i>I am interested in data science because today the wrold is data</i></br>\n<i>I am interested in data science because I want to be a data sciencist<i/>"
        },
        {
            "cell_type": "markdown",
            "metadata": {},
            "source": "### Code to execute matematical operatios"
        },
        {
            "cell_type": "code",
            "execution_count": 8,
            "metadata": {},
            "outputs": [
                {
                    "data": {
                        "text/plain": "21"
                    },
                    "execution_count": 8,
                    "metadata": {},
                    "output_type": "execute_result"
                }
            ],
            "source": "(5 + 2)*3"
        },
        {
            "cell_type": "markdown",
            "metadata": {},
            "source": "<ol>\n<li>Raimundo</li>\n<li>Nonato</li>\n<li>Da Cruz</li>\n</ol>\n\n<ul>\n<li>Raimundo</li>\n<li>Nonato</li>\n<li>Da Cruz</li>\n</ul>\n\n<a>Raimundo Nonato da Cruz</a>"
        },
        {
            "cell_type": "code",
            "execution_count": null,
            "metadata": {},
            "outputs": [],
            "source": ""
        }
    ],
    "metadata": {
        "kernelspec": {
            "display_name": "Python 3.9",
            "language": "python",
            "name": "python3"
        },
        "language_info": {
            "codemirror_mode": {
                "name": "ipython",
                "version": 3
            },
            "file_extension": ".py",
            "mimetype": "text/x-python",
            "name": "python",
            "nbconvert_exporter": "python",
            "pygments_lexer": "ipython3",
            "version": "3.9.12"
        }
    },
    "nbformat": 4,
    "nbformat_minor": 1
}